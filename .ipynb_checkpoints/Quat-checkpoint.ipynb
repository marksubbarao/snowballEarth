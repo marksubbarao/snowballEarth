{
 "cells": [
  {
   "cell_type": "markdown",
   "metadata": {},
   "source": [
    "import math\n",
    "\n",
    "def Quaternion_toEulerianAngle(x, y, z, w):\n",
    "\tysqr = y*y\n",
    "\t\n",
    "\tt0 = +2.0 * (w * x + y*z)\n",
    "\tt1 = +1.0 - 2.0 * (x*x + ysqr)\n",
    "\tX = math.degrees(math.atan2(t0, t1))\n",
    "\t\n",
    "\tt2 = +2.0 * (w*y - z*x)\n",
    "\tt2 =  1 if t2 > 1 else t2\n",
    "\tt2 = -1 if t2 < -1 else t2\n",
    "\tY = math.degrees(math.asin(t2))\n",
    "\t\n",
    "\tt3 = +2.0 * (w * z + x*y)\n",
    "\tt4 = +1.0 - 2.0 * (ysqr + z*z)\n",
    "\tZ = math.degrees(math.atan2(t3, t4))\n",
    "\t\n",
    "\t\n",
    "\treturn X, Y, Z \n"
   ]
  },
  {
   "cell_type": "markdown",
   "metadata": {},
   "source": [
    "## Projector 1"
   ]
  },
  {
   "cell_type": "code",
   "execution_count": 2,
   "metadata": {
    "collapsed": false
   },
   "outputs": [
    {
     "data": {
      "text/plain": [
       "(29.428373471183292, -1.367358285243479, -0.2626670076883733)"
      ]
     },
     "execution_count": 2,
     "metadata": {},
     "output_type": "execute_result"
    }
   ],
   "source": [
    "Quaternion_toEulerianAngle(0.25395223498344421, -0.012122993357479572, 0.00081386312376707792, 0.96714043617248535)"
   ]
  },
  {
   "cell_type": "markdown",
   "metadata": {},
   "source": [
    "## Projector 2"
   ]
  },
  {
   "cell_type": "code",
   "execution_count": null,
   "metadata": {
    "collapsed": true
   },
   "outputs": [],
   "source": []
  }
 ],
 "metadata": {
  "anaconda-cloud": {},
  "kernelspec": {
   "display_name": "Python [conda root]",
   "language": "python",
   "name": "conda-root-py"
  },
  "language_info": {
   "codemirror_mode": {
    "name": "ipython",
    "version": 3
   },
   "file_extension": ".py",
   "mimetype": "text/x-python",
   "name": "python",
   "nbconvert_exporter": "python",
   "pygments_lexer": "ipython3",
   "version": "3.5.2"
  }
 },
 "nbformat": 4,
 "nbformat_minor": 1
}
